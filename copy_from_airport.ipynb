{
 "cells": [
  {
   "cell_type": "code",
   "execution_count": 1,
   "metadata": {
    "collapsed": true
   },
   "outputs": [],
   "source": [
    "from openpyxl import Workbook\n"
   ]
  },
  {
   "cell_type": "code",
   "execution_count": 2,
   "metadata": {
    "collapsed": true
   },
   "outputs": [],
   "source": [
    "wb = Workbook()\n",
    "\n",
    "# grab the active worksheet\n",
    "ws = wb.active\n",
    "\n",
    "# Data can be assigned directly to cells\n",
    "ws['A1'] = 42\n",
    "\n",
    "# Rows can also be appended\n",
    "ws.append([1, 2, 3])\n",
    "\n",
    "# Python types will automatically be converted\n",
    "import datetime\n",
    "ws['A2'] = datetime.datetime.now()\n",
    "\n",
    "# Save the file\n",
    "wb.save(\"sample.xlsx\")"
   ]
  },
  {
   "cell_type": "code",
   "execution_count": null,
   "metadata": {
    "collapsed": true
   },
   "outputs": [],
   "source": [
    ";from openpyxl import load_workbook\n",
    "wb = load_workbook(filename = 'C:/Users/t-weic/Downloads/reformat_airpot_seaport_data-master/input_wld_trs_airports_wfp')\n",
    "sheet_ranges = wb['range names']\n"
   ]
  },
  {
   "cell_type": "code",
   "execution_count": 44,
   "metadata": {
    "collapsed": true
   },
   "outputs": [],
   "source": [
    "import csv\n",
    "import openpyxl"
   ]
  },
  {
   "cell_type": "code",
   "execution_count": 48,
   "metadata": {},
   "outputs": [],
   "source": [
    "\n",
    "\n",
    "wb = openpyxl.load_workbook(filename = \"C:/Users/t-weic/Downloads/reformat_airpot_seaport_data-master/output_nodes.xlsx\")\n",
    "ws = wb['Nodes']\n",
    "\n",
    "csvfile = open('C:/Users/t-weic/Downloads/reformat_airpot_seaport_data-master/input_wld_trs_airports_wfp.csv')\n",
    "reader = csv.reader(csvfile, delimiter=',')\n"
   ]
  },
  {
   "cell_type": "code",
   "execution_count": 52,
   "metadata": {},
   "outputs": [],
   "source": [
    "headers = next(reader, None)\n"
   ]
  },
  {
   "cell_type": "code",
   "execution_count": 53,
   "metadata": {},
   "outputs": [],
   "source": [
    "i=0\n",
    "for row in reader:\n",
    "    new_row = [None]*16\n",
    "    new_row[0] =\"Airport\" # Type =\"Airport\" \n",
    "    new_row[1] = row[24] #Country = country\n",
    "    new_row[2] = row[0] #External_System_ID = FID\n",
    "    new_row[3] = row[2] #Name = FID\n",
    "    new_row[4] = row[7] # Description= apttype\n",
    "    new_row[5] = row[9] # Organization_Name = authority\n",
    "    new_row[12] = float(row[20]) # Latitude = latitude\n",
    "    new_row[13] = float(row[21]) #Longitude = longitude\n",
    "    #print new_row\n",
    "    i+=1\n",
    "    ws.append(new_row)\n",
    "csvfile.close()\n",
    "print i"
   ]
  },
  {
   "cell_type": "code",
   "execution_count": 54,
   "metadata": {
    "collapsed": true
   },
   "outputs": [],
   "source": [
    "wb.save('output_airport.xlsx')"
   ]
  },
  {
   "cell_type": "code",
   "execution_count": null,
   "metadata": {
    "collapsed": true
   },
   "outputs": [],
   "source": []
  }
 ],
 "metadata": {
  "kernelspec": {
   "display_name": "Python 2",
   "language": "python",
   "name": "python2"
  },
  "language_info": {
   "codemirror_mode": {
    "name": "ipython",
    "version": 2
   },
   "file_extension": ".py",
   "mimetype": "text/x-python",
   "name": "python",
   "nbconvert_exporter": "python",
   "pygments_lexer": "ipython2",
   "version": "2.7.13"
  }
 },
 "nbformat": 4,
 "nbformat_minor": 2
}
